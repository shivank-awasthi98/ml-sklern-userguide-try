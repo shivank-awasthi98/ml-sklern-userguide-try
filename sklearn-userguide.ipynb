{
 "cells": [
  {
   "cell_type": "markdown",
   "metadata": {},
   "source": [
    "# #Linear model\n"
   ]
  },
  {
   "cell_type": "code",
   "execution_count": 11,
   "metadata": {},
   "outputs": [],
   "source": [
    "from sklearn import datasets,linear_model\n",
    "from sklearn.metrics import mean_squared_error, r2_score\n",
    "import matplotlib.pyplot as plt\n",
    "import numpy as np"
   ]
  },
  {
   "cell_type": "code",
   "execution_count": 155,
   "metadata": {},
   "outputs": [
    {
     "name": "stdout",
     "output_type": "stream",
     "text": [
      "train_x [[0.02187235]]\n",
      "train_y [151.]\n",
      "test_x= [[ 0.05285819]\n",
      " [ 0.0287581 ]\n",
      " [-0.01944209]\n",
      " [-0.08141377]\n",
      " [ 0.0436772 ]]\n",
      "test_y [233.  91. 111. 152. 120.]\n",
      "coef: [709.19471785]\n",
      "predicted_y [190.62399804 173.53233807 139.34901813  95.39903534 184.1128894 ]\n",
      "mean square error 63.70565351002006\n",
      "modified predicted y =  [254.32965155 237.23799158 203.05467164 159.10468885 247.81854291]\n",
      "r2 score: 0.15995117339547205\n"
     ]
    },
    {
     "data": {
      "image/png": "[encoded data removed]",
      "text/plain": [
       "<Figure size 432x288 with 1 Axes>"
      ]
     },
     "metadata": {
      "needs_background": "light"
     },
     "output_type": "display_data"
    }
   ],
   "source": [
    "d_x,d_y=datasets.load_diabetes(return_X_y=True)\n",
    "# print(d_x[:5])\n",
    "d_x=d_x[:,np.newaxis,3]\n",
    "\n",
    "d_x.shape\n",
    "train_x=d_x[:-20]\n",
    "test_x=d_x[-20:]\n",
    "train_y=d_y[:-20]\n",
    "test_y=d_y[-20:]\n",
    "print(\"train_x\",train_x[:1])\n",
    "print(\"train_y\",train_y[:1])\n",
    "print(\"test_x=\",test_x[:5])\n",
    "print(\"test_y\",test_y[:5])\n",
    "reg=linear_model.LinearRegression()\n",
    "reg.fit(train_x,train_y)\n",
    "print(\"coef:\",reg.coef_)\n",
    "pred_y=reg.predict(test_x)\n",
    "print(\"predicted_y\",pred_y[:5])\n",
    "print(\"mean square error\",mean_squared_error(test_y,prid_y,squared=False))\n",
    "mod_pridected_y=pred_y+mean_squared_error(test_y,pred_y,squared=False)\n",
    "print(\"modified predicted y = \",mod_pridected_y[:5])\n",
    "print(\"r2 score:\",r2_score(test_y,prid_y))\n",
    "plt.scatter(test_x,test_y,color=\"black\")\n",
    "plt.plot(test_x,pred_y,linewidth=1,marker='o')\n",
    "\n",
    "plt.show()\n"
   ]
  },
  {
   "cell_type": "markdown",
   "metadata": {},
   "source": [
    "\n",
    "# RidgeRegression"
   ]
  },
  {
   "cell_type": "code",
   "execution_count": 156,
   "metadata": {},
   "outputs": [
    {
     "name": "stdout",
     "output_type": "stream",
     "text": [
      "regCoef [346.62408198]\n",
      "test x = [[ 0.05285819]\n",
      " [ 0.0287581 ]\n",
      " [-0.01944209]\n",
      " [-0.08141377]\n",
      " [ 0.0436772 ]]\n",
      "test y = [233.  91. 111. 152. 120.]\n",
      "predicted y =  [171.57435875 163.2206855  146.51333899 125.03246491 168.392007  ]\n",
      "rms error 67.48345633527812\n",
      "modified predicted y =  [239.05781509 230.70414184 213.99679532 192.51592124 235.87546333]\n",
      "r2 0.05736575088480045\n"
     ]
    },
    {
     "data": {
      "image/png": "[encoded data removed]",
      "text/plain": [
       "<Figure size 432x288 with 1 Axes>"
      ]
     },
     "metadata": {
      "needs_background": "light"
     },
     "output_type": "display_data"
    }
   ],
   "source": [
    "reg=linear_model.Ridge()\n",
    "reg.fit(train_x,train_y)\n",
    "print(\"regCoef\",reg.coef_)\n",
    "print(\"test x =\",test_x[:5])\n",
    "print(\"test y =\",test_y[:5])\n",
    "pred_y=reg.predict(test_x)\n",
    "print(\"predicted y = \",pred_y[:5])\n",
    "print(\"rms error\",mean_squared_error(test_y,pred_y,squared=False))\n",
    "mod_pridected_y=pred_y+mean_squared_error(test_y,pred_y,squared=False)\n",
    "print(\"modified predicted y = \",mod_pridected_y[:5])\n",
    "print(\"r2\",r2_score(test_y,pred_y))\n",
    "plt.scatter(test_x,test_y,color=\"black\")\n",
    "plt.plot(test_x,pred_y,linewidth=1,marker='o')\n",
    "\n",
    "plt.show()"
   ]
  },
  {
   "cell_type": "markdown",
   "metadata": {},
   "source": [
    "# Lasso "
   ]
  },
  {
   "cell_type": "code",
   "execution_count": 214,
   "metadata": {},
   "outputs": [
    {
     "name": "stdout",
     "output_type": "stream",
     "text": [
      "regCoef [267.78047027]\n",
      "test x = [[ 0.05285819]\n",
      " [ 0.0287581 ]\n",
      " [-0.01944209]\n",
      " [-0.08141377]\n",
      " [ 0.0436772 ]]\n",
      "test y = [233.  91. 111. 152. 120.]\n",
      "predicted y =  [167.43187667 160.97834194 148.07127247 131.47646887 164.97338722]\n",
      "rms error 68.83605323107804\n",
      "modified predicted y =  [236.2679299  229.81439517 216.9073257  200.3125221  233.80944045]\n",
      "r2 0.019199897243765807\n"
     ]
    },
    {
     "data": {
      "image/png": "[encoded data removed]",
      "text/plain": [
       "<Figure size 432x288 with 1 Axes>"
      ]
     },
     "metadata": {
      "needs_background": "light"
     },
     "output_type": "display_data"
    }
   ],
   "source": [
    "reg=linear_model.Lasso()\n",
    "reg.fit(train_x,train_y)\n",
    "print(\"regCoef\",reg.coef_)\n",
    "print(\"test x =\",test_x[:5])\n",
    "print(\"test y =\",test_y[:5])\n",
    "pred_y=reg.predict(test_x)\n",
    "print(\"predicted y = \",pred_y[:5])\n",
    "print(\"rms error\",mean_squared_error(test_y,pred_y,squared=False))\n",
    "mod_pridected_y=pred_y+mean_squared_error(test_y,pred_y,squared=False)\n",
    "print(\"modified predicted y = \",mod_pridected_y[:5])\n",
    "print(\"r2\",r2_score(test_y,pred_y))\n",
    "plt.scatter(test_x,test_y,color=\"black\")\n",
    "plt.plot(test_x,pred_y,linewidth=1,marker='o')\n",
    "\n",
    "plt.show()"
   ]
  },
  {
   "cell_type": "markdown",
   "metadata": {},
   "source": [
    "# Multi-Class-Lasso "
   ]
  },
  {
   "cell_type": "code",
   "execution_count": 34,
   "metadata": {},
   "outputs": [],
   "source": [
    "from sklearn.linear_model import MultiTaskLasso, Lasso\n",
    "rng = np.random.RandomState(42)\n",
    "n_samples, n_features, n_tasks = 100, 30, 40\n",
    "n_relevant_features = 5\n",
    "coef = np.zeros((n_tasks, n_features))\n",
    "coef.shape\n",
    "times = np.linspace(0, 2 * np.pi, n_tasks)\n",
    "times\n",
    "for k in range(n_relevant_features):\n",
    "    coef[:, k] = np.sin((1. + rng.randn(1)) * times + 3 * rng.randn(1))\n",
    "\n",
    "    "
   ]
  },
  {
   "cell_type": "code",
   "execution_count": null,
   "metadata": {},
   "outputs": [],
   "source": []
  },
  {
   "cell_type": "markdown",
   "metadata": {},
   "source": [
    "## ElasticNet"
   ]
  },
  {
   "cell_type": "code",
   "execution_count": 232,
   "metadata": {},
   "outputs": [
    {
     "name": "stdout",
     "output_type": "stream",
     "text": [
      "regCoef [2.2033013]\n",
      "test x = [[ 0.05285819]\n",
      " [ 0.0287581 ]\n",
      " [-0.01944209]\n",
      " [-0.08141377]\n",
      " [ 0.0436772 ]]\n",
      "test y = [233.  91. 111. 152. 120.]\n",
      "predicted y =  [153.47832177 153.425222   153.31902246 153.1824802  153.45809329]\n",
      "rms error 74.5710577052458\n",
      "modified predicted y =  [228.04937948 227.99627971 227.89008017 227.7535379  228.029151  ]\n",
      "r2 -0.1510367380254638\n"
     ]
    },
    {
     "data": {
      "image/png": "[encoded data removed]",
      "text/plain": [
       "<Figure size 432x288 with 1 Axes>"
      ]
     },
     "metadata": {
      "needs_background": "light"
     },
     "output_type": "display_data"
    }
   ],
   "source": [
    "reg=linear_model.ElasticNet()\n",
    "reg.fit(train_x,train_y)\n",
    "print(\"regCoef\",reg.coef_)\n",
    "print(\"test x =\",test_x[:5])\n",
    "print(\"test y =\",test_y[:5])\n",
    "pred_y=reg.predict(test_x)\n",
    "print(\"predicted y = \",pred_y[:5])\n",
    "print(\"rms error\",mean_squared_error(test_y,pred_y,squared=False))\n",
    "mod_pridected_y=pred_y+mean_squared_error(test_y,pred_y,squared=False)\n",
    "print(\"modified predicted y = \",mod_pridected_y[:5])\n",
    "print(\"r2\",r2_score(test_y,pred_y))\n",
    "plt.scatter(test_x,test_y,color=\"black\")\n",
    "plt.plot(test_x,pred_y,linewidth=1,marker='o')\n",
    "\n",
    "plt.show()"
   ]
  },
  {
   "cell_type": "markdown",
   "metadata": {},
   "source": [
    "# Linear Reggeration"
   ]
  },
  {
   "cell_type": "code",
   "execution_count": 45,
   "metadata": {},
   "outputs": [
    {
     "name": "stdout",
     "output_type": "stream",
     "text": [
      "(70000, 784)\n",
      "Sparsity with L1 penalty: 79.35%\n",
      "Test score with L1 penalty: 0.8275\n"
     ]
    },
    {
     "ename": "IndexError",
     "evalue": "index 20 is out of bounds for axis 0 with size 10",
     "output_type": "error",
     "traceback": [
      "\u001b[1;31m---------------------------------------------------------------------------\u001b[0m",
      "\u001b[1;31mIndexError\u001b[0m                                Traceback (most recent call last)",
      "\u001b[1;32m<ipython-input-45-52a008a12c26>\u001b[0m in \u001b[0;36m<module>\u001b[1;34m\u001b[0m\n\u001b[0;32m     38\u001b[0m \u001b[0mplt\u001b[0m\u001b[1;33m.\u001b[0m\u001b[0mfigure\u001b[0m\u001b[1;33m(\u001b[0m\u001b[0mfigsize\u001b[0m\u001b[1;33m=\u001b[0m\u001b[1;33m(\u001b[0m\u001b[1;36m10\u001b[0m\u001b[1;33m,\u001b[0m \u001b[1;36m5\u001b[0m\u001b[1;33m)\u001b[0m\u001b[1;33m)\u001b[0m\u001b[1;33m\u001b[0m\u001b[1;33m\u001b[0m\u001b[0m\n\u001b[0;32m     39\u001b[0m \u001b[0mscale\u001b[0m \u001b[1;33m=\u001b[0m \u001b[0mnp\u001b[0m\u001b[1;33m.\u001b[0m\u001b[0mabs\u001b[0m\u001b[1;33m(\u001b[0m\u001b[0mcoef\u001b[0m\u001b[1;33m)\u001b[0m\u001b[1;33m.\u001b[0m\u001b[0mmax\u001b[0m\u001b[1;33m(\u001b[0m\u001b[1;33m)\u001b[0m\u001b[1;33m\u001b[0m\u001b[1;33m\u001b[0m\u001b[0m\n\u001b[1;32m---> 40\u001b[1;33m plt.imshow(coef[20].reshape(28, 28), interpolation='nearest',\n\u001b[0m\u001b[0;32m     41\u001b[0m                    cmap=plt.cm.RdBu, vmin=-scale, vmax=scale)\n\u001b[0;32m     42\u001b[0m \u001b[1;33m\u001b[0m\u001b[0m\n",
      "\u001b[1;31mIndexError\u001b[0m: index 20 is out of bounds for axis 0 with size 10"
     ]
    },
    {
     "data": {
      "text/plain": [
       "<Figure size 720x360 with 0 Axes>"
      ]
     },
     "metadata": {},
     "output_type": "display_data"
    }
   ],
   "source": [
    "# import time\n",
    "# from sklearn.datasets import fetch_openml\n",
    "# from sklearn.linear_model import LogisticRegression\n",
    "# from sklearn.model_selection import train_test_split\n",
    "# from sklearn.preprocessing import StandardScaler\n",
    "# from sklearn.utils import check_random_state\n",
    "# t0 = time.time()\n",
    "# train_samples = 5000\n",
    "\n",
    "# X, y = fetch_openml('mnist_784', version=1, return_X_y=True)\n",
    "# print(X.shape)\n",
    "# random_state = check_random_state(0)\n",
    "# permutation = random_state.permutation(X.shape[0])\n",
    "# X = X[permutation]\n",
    "# y = y[permutation]\n",
    "# # print(X,y)\n",
    "# X = X.reshape((X.shape[0], -1))\n",
    "# X.shape\n",
    "# X_train, X_test, y_train, y_test = train_test_split(\n",
    "#     X, y, train_size=train_samples, test_size=10000)\n",
    "\n",
    "# scaler = StandardScaler()\n",
    "# X_train = scaler.fit_transform(X_train)\n",
    "# X_test = scaler.transform(X_test)\n",
    "\n",
    "# # # Turn up tolerance for faster convergence\n",
    "# clf = LogisticRegression(\n",
    "#     C=50. / train_samples, penalty='l1', solver='saga', tol=0.1\n",
    "# )\n",
    "# clf.fit(X_train, y_train)\n",
    "# sparsity = np.mean(clf.coef_ == 0) * 100\n",
    "# score = clf.score(X_test, y_test)\n",
    "# # print('Best C % .4f' % clf/.C_)\n",
    "# print(\"Sparsity with L1 penalty: %.2f%%\" % sparsity)\n",
    "# print(\"Test score with L1 penalty: %.4f\" % score)\n",
    "\n",
    "# coef = clf.coef_.copy()\n",
    "# plt.figure(figsize=(10, 5))\n",
    "# scale = np.abs(coef).max()\n",
    "\n",
    "# for i in range(10):\n",
    "#     l1_plot = plt.subplot(2, 5, i + 1)\n",
    "#     l1_plot.imshow(coef[i].reshape(28, 28), interpolation='nearest',\n",
    "#                    cmap=plt.cm.RdBu, vmin=-scale, vmax=scale)\n",
    "#     l1_plot.set_xticks(())\n",
    "#     l1_plot.set_yticks(())\n",
    "#     l1_plot.set_xlabel('Class %i' % i)\n",
    "# plt.suptitle('Classification vector for...')\n",
    "\n",
    "# run_time = time.time() - t0\n",
    "# print('Example run in %.3f s' % run_time)\n",
    "# plt.show()"
   ]
  },
  {
   "cell_type": "code",
   "execution_count": 58,
   "metadata": {},
   "outputs": [
    {
     "data": {
      "image/png": "[encoded data removed]",
      "text/plain": [
       "<Figure size 432x288 with 1 Axes>"
      ]
     },
     "metadata": {
      "needs_background": "light"
     },
     "output_type": "display_data"
    },
    {
     "ename": "ValueError",
     "evalue": "unknown solver isqr (valid solvers are 'svd', 'lsqr', and 'eigen').",
     "output_type": "error",
     "traceback": [
      "\u001b[1;31m---------------------------------------------------------------------------\u001b[0m",
      "\u001b[1;31mValueError\u001b[0m                                Traceback (most recent call last)",
      "\u001b[1;32m<ipython-input-58-67de6d9eff6d>\u001b[0m in \u001b[0;36m<module>\u001b[1;34m\u001b[0m\n\u001b[0;32m     18\u001b[0m \u001b[1;33m\u001b[0m\u001b[0m\n\u001b[0;32m     19\u001b[0m \u001b[0mlda\u001b[0m \u001b[1;33m=\u001b[0m \u001b[0mLinearDiscriminantAnalysis\u001b[0m\u001b[1;33m(\u001b[0m\u001b[0mn_components\u001b[0m\u001b[1;33m=\u001b[0m\u001b[1;36m2\u001b[0m\u001b[1;33m,\u001b[0m\u001b[0msolver\u001b[0m\u001b[1;33m=\u001b[0m\u001b[1;34m'isqr'\u001b[0m\u001b[1;33m)\u001b[0m\u001b[1;33m\u001b[0m\u001b[1;33m\u001b[0m\u001b[0m\n\u001b[1;32m---> 20\u001b[1;33m \u001b[0mX_r2\u001b[0m \u001b[1;33m=\u001b[0m \u001b[0mlda\u001b[0m\u001b[1;33m.\u001b[0m\u001b[0mfit\u001b[0m\u001b[1;33m(\u001b[0m\u001b[0mX\u001b[0m\u001b[1;33m,\u001b[0m \u001b[0my\u001b[0m\u001b[1;33m)\u001b[0m\u001b[1;33m.\u001b[0m\u001b[0mtransform\u001b[0m\u001b[1;33m(\u001b[0m\u001b[0mX\u001b[0m\u001b[1;33m)\u001b[0m\u001b[1;33m\u001b[0m\u001b[1;33m\u001b[0m\u001b[0m\n\u001b[0m\u001b[0;32m     21\u001b[0m \u001b[1;33m\u001b[0m\u001b[0m\n\u001b[0;32m     22\u001b[0m \u001b[1;31m# Percentage of variance explained for each components\u001b[0m\u001b[1;33m\u001b[0m\u001b[1;33m\u001b[0m\u001b[1;33m\u001b[0m\u001b[0m\n",
      "\u001b[1;32m~\\Anaconda3\\lib\\site-packages\\sklearn\\discriminant_analysis.py\u001b[0m in \u001b[0;36mfit\u001b[1;34m(self, X, y)\u001b[0m\n\u001b[0;32m    482\u001b[0m         \u001b[1;32melse\u001b[0m\u001b[1;33m:\u001b[0m\u001b[1;33m\u001b[0m\u001b[1;33m\u001b[0m\u001b[0m\n\u001b[0;32m    483\u001b[0m             raise ValueError(\"unknown solver {} (valid solvers are 'svd', \"\n\u001b[1;32m--> 484\u001b[1;33m                              \"'lsqr', and 'eigen').\".format(self.solver))\n\u001b[0m\u001b[0;32m    485\u001b[0m         \u001b[1;32mif\u001b[0m \u001b[0mself\u001b[0m\u001b[1;33m.\u001b[0m\u001b[0mclasses_\u001b[0m\u001b[1;33m.\u001b[0m\u001b[0msize\u001b[0m \u001b[1;33m==\u001b[0m \u001b[1;36m2\u001b[0m\u001b[1;33m:\u001b[0m  \u001b[1;31m# treat binary case as a special case\u001b[0m\u001b[1;33m\u001b[0m\u001b[1;33m\u001b[0m\u001b[0m\n\u001b[0;32m    486\u001b[0m             self.coef_ = np.array(self.coef_[1, :] - self.coef_[0, :], ndmin=2,\n",
      "\u001b[1;31mValueError\u001b[0m: unknown solver isqr (valid solvers are 'svd', 'lsqr', and 'eigen')."
     ]
    }
   ],
   "source": [
    "from sklearn.discriminant_analysis import LinearDiscriminantAnalysis\n",
    "iris = datasets.load_iris()\n",
    "\n",
    "X = iris.data\n",
    "y = iris.target\n",
    "target_names = iris.target_names\n",
    "plt.figure()\n",
    "colors = ['navy', 'turquoise', 'darkorange']\n",
    "lw = 2\n",
    "\n",
    "for color, i, target_name in zip(colors, [0, 1, 2], target_names):\n",
    "    plt.scatter(X[y == i, 0], X[y == i, 1], alpha=.8, color=color,\n",
    "                label=target_name)\n",
    "plt.legend(loc='best', shadow=False, scatterpoints=1)\n",
    "plt.title('BEFORE LDA of IRIS dataset')\n",
    "\n",
    "plt.show()\n",
    "\n",
    "lda = LinearDiscriminantAnalysis(n_components=2,solver='isqr')\n",
    "X_r2 = lda.fit(X, y).transform(X)\n",
    "\n",
    "# Percentage of variance explained for each components\n",
    "print('explained variance ratio (first two components): %s'\n",
    "      % str(lda.explained_variance_ratio_))\n",
    "\n",
    "plt.figure()\n",
    "colors = ['navy', 'turquoise', 'darkorange']\n",
    "lw = 2\n",
    "\n",
    "\n",
    "for color, i, target_name in zip(colors, [0, 1, 2], target_names):\n",
    "    plt.scatter(X_r2[y == i, 0], X_r2[y == i, 1], alpha=.8, color=color,\n",
    "                label=target_name)\n",
    "plt.legend(loc='best', shadow=False, scatterpoints=1)\n",
    "plt.title('LDA of IRIS dataset')\n",
    "\n",
    "plt.show()\n"
   ]
  },
  {
   "cell_type": "markdown",
   "metadata": {},
   "source": [
    "# Neighbour"
   ]
  },
  {
   "cell_type": "code",
   "execution_count": 27,
   "metadata": {},
   "outputs": [
    {
     "name": "stdout",
     "output_type": "stream",
     "text": [
      "[[5.1 3.5]\n",
      " [4.9 3. ]\n",
      " [4.7 3.2]\n",
      " [4.6 3.1]\n",
      " [5.  3.6]\n",
      " [5.4 3.9]\n",
      " [4.6 3.4]\n",
      " [5.  3.4]\n",
      " [4.4 2.9]\n",
      " [4.9 3.1]\n",
      " [5.4 3.7]\n",
      " [4.8 3.4]\n",
      " [4.8 3. ]\n",
      " [4.3 3. ]\n",
      " [5.8 4. ]\n",
      " [5.7 4.4]\n",
      " [5.4 3.9]\n",
      " [5.1 3.5]\n",
      " [5.7 3.8]\n",
      " [5.1 3.8]\n",
      " [5.4 3.4]\n",
      " [5.1 3.7]\n",
      " [4.6 3.6]\n",
      " [5.1 3.3]\n",
      " [4.8 3.4]\n",
      " [5.  3. ]\n",
      " [5.  3.4]\n",
      " [5.2 3.5]\n",
      " [5.2 3.4]\n",
      " [4.7 3.2]\n",
      " [4.8 3.1]\n",
      " [5.4 3.4]\n",
      " [5.2 4.1]\n",
      " [5.5 4.2]\n",
      " [4.9 3.1]\n",
      " [5.  3.2]\n",
      " [5.5 3.5]\n",
      " [4.9 3.6]\n",
      " [4.4 3. ]\n",
      " [5.1 3.4]\n",
      " [5.  3.5]\n",
      " [4.5 2.3]\n",
      " [4.4 3.2]\n",
      " [5.  3.5]\n",
      " [5.1 3.8]\n",
      " [4.8 3. ]\n",
      " [5.1 3.8]\n",
      " [4.6 3.2]\n",
      " [5.3 3.7]\n",
      " [5.  3.3]\n",
      " [7.  3.2]\n",
      " [6.4 3.2]\n",
      " [6.9 3.1]\n",
      " [5.5 2.3]\n",
      " [6.5 2.8]\n",
      " [5.7 2.8]\n",
      " [6.3 3.3]\n",
      " [4.9 2.4]\n",
      " [6.6 2.9]\n",
      " [5.2 2.7]\n",
      " [5.  2. ]\n",
      " [5.9 3. ]\n",
      " [6.  2.2]\n",
      " [6.1 2.9]\n",
      " [5.6 2.9]\n",
      " [6.7 3.1]\n",
      " [5.6 3. ]\n",
      " [5.8 2.7]\n",
      " [6.2 2.2]\n",
      " [5.6 2.5]\n",
      " [5.9 3.2]\n",
      " [6.1 2.8]\n",
      " [6.3 2.5]\n",
      " [6.1 2.8]\n",
      " [6.4 2.9]\n",
      " [6.6 3. ]\n",
      " [6.8 2.8]\n",
      " [6.7 3. ]\n",
      " [6.  2.9]\n",
      " [5.7 2.6]\n",
      " [5.5 2.4]\n",
      " [5.5 2.4]\n",
      " [5.8 2.7]\n",
      " [6.  2.7]\n",
      " [5.4 3. ]\n",
      " [6.  3.4]\n",
      " [6.7 3.1]\n",
      " [6.3 2.3]\n",
      " [5.6 3. ]\n",
      " [5.5 2.5]\n",
      " [5.5 2.6]\n",
      " [6.1 3. ]\n",
      " [5.8 2.6]\n",
      " [5.  2.3]\n",
      " [5.6 2.7]\n",
      " [5.7 3. ]\n",
      " [5.7 2.9]\n",
      " [6.2 2.9]\n",
      " [5.1 2.5]\n",
      " [5.7 2.8]\n",
      " [6.3 3.3]\n",
      " [5.8 2.7]\n",
      " [7.1 3. ]\n",
      " [6.3 2.9]\n",
      " [6.5 3. ]\n",
      " [7.6 3. ]\n",
      " [4.9 2.5]\n",
      " [7.3 2.9]\n",
      " [6.7 2.5]\n",
      " [7.2 3.6]\n",
      " [6.5 3.2]\n",
      " [6.4 2.7]\n",
      " [6.8 3. ]\n",
      " [5.7 2.5]\n",
      " [5.8 2.8]\n",
      " [6.4 3.2]\n",
      " [6.5 3. ]\n",
      " [7.7 3.8]\n",
      " [7.7 2.6]\n",
      " [6.  2.2]\n",
      " [6.9 3.2]\n",
      " [5.6 2.8]\n",
      " [7.7 2.8]\n",
      " [6.3 2.7]\n",
      " [6.7 3.3]\n",
      " [7.2 3.2]\n",
      " [6.2 2.8]\n",
      " [6.1 3. ]\n",
      " [6.4 2.8]\n",
      " [7.2 3. ]\n",
      " [7.4 2.8]\n",
      " [7.9 3.8]\n",
      " [6.4 2.8]\n",
      " [6.3 2.8]\n",
      " [6.1 2.6]\n",
      " [7.7 3. ]\n",
      " [6.3 3.4]\n",
      " [6.4 3.1]\n",
      " [6.  3. ]\n",
      " [6.9 3.1]\n",
      " [6.7 3.1]\n",
      " [6.9 3.1]\n",
      " [5.8 2.7]\n",
      " [6.8 3.2]\n",
      " [6.7 3.3]\n",
      " [6.7 3. ]\n",
      " [6.3 2.5]\n",
      " [6.5 3. ]\n",
      " [6.2 3.4]\n",
      " [5.9 3. ]]\n",
      "[0 0 0 0 0 0 0 0 0 0 0 0 0 0 0 0 0 0 0 0 0 0 0 0 0 0 0 0 0 0 0 0 0 0 0 0 0\n",
      " 0 0 0 0 0 0 0 0 0 0 0 0 0 1 1 1 1 1 1 1 1 1 1 1 1 1 1 1 1 1 1 1 1 1 1 1 1\n",
      " 1 1 1 1 1 1 1 1 1 1 1 1 1 1 1 1 1 1 1 1 1 1 1 1 1 1 2 2 2 2 2 2 2 2 2 2 2\n",
      " 2 2 2 2 2 2 2 2 2 2 2 2 2 2 2 2 2 2 2 2 2 2 2 2 2 2 2 2 2 2 2 2 2 2 2 2 2\n",
      " 2 2]\n",
      "0.1 0.8133333333333334\n",
      "[[3.3  3.32 3.34 ... 8.84 8.86 8.88]\n",
      " [3.3  3.32 3.34 ... 8.84 8.86 8.88]\n",
      " [3.3  3.32 3.34 ... 8.84 8.86 8.88]\n",
      " ...\n",
      " [3.3  3.32 3.34 ... 8.84 8.86 8.88]\n",
      " [3.3  3.32 3.34 ... 8.84 8.86 8.88]\n",
      " [3.3  3.32 3.34 ... 8.84 8.86 8.88]] [[1.   1.   1.   ... 1.   1.   1.  ]\n",
      " [1.02 1.02 1.02 ... 1.02 1.02 1.02]\n",
      " [1.04 1.04 1.04 ... 1.04 1.04 1.04]\n",
      " ...\n",
      " [5.34 5.34 5.34 ... 5.34 5.34 5.34]\n",
      " [5.36 5.36 5.36 ... 5.36 5.36 5.36]\n",
      " [5.38 5.38 5.38 ... 5.38 5.38 5.38]]\n",
      "1 0.8066666666666666\n",
      "[[3.3  3.32 3.34 ... 8.84 8.86 8.88]\n",
      " [3.3  3.32 3.34 ... 8.84 8.86 8.88]\n",
      " [3.3  3.32 3.34 ... 8.84 8.86 8.88]\n",
      " ...\n",
      " [3.3  3.32 3.34 ... 8.84 8.86 8.88]\n",
      " [3.3  3.32 3.34 ... 8.84 8.86 8.88]\n",
      " [3.3  3.32 3.34 ... 8.84 8.86 8.88]] [[1.   1.   1.   ... 1.   1.   1.  ]\n",
      " [1.02 1.02 1.02 ... 1.02 1.02 1.02]\n",
      " [1.04 1.04 1.04 ... 1.04 1.04 1.04]\n",
      " ...\n",
      " [5.34 5.34 5.34 ... 5.34 5.34 5.34]\n",
      " [5.36 5.36 5.36 ... 5.36 5.36 5.36]\n",
      " [5.38 5.38 5.38 ... 5.38 5.38 5.38]]\n"
     ]
    },
    {
     "data": {
      "image/png": "[encoded data removed]",
      "text/plain": [
       "<Figure size 432x288 with 1 Axes>"
      ]
     },
     "metadata": {
      "needs_background": "light"
     },
     "output_type": "display_data"
    },
    {
     "data": {
      "image/png": "[encoded data removed]",
      "text/plain": [
       "<Figure size 432x288 with 1 Axes>"
      ]
     },
     "metadata": {
      "needs_background": "light"
     },
     "output_type": "display_data"
    }
   ],
   "source": [
    "from sklearn.neighbors import NearestCentroid\n",
    "from matplotlib.colors import ListedColormap\n",
    "\n",
    "n_neighbors = 15\n",
    "\n",
    "# import some data to play with\n",
    "iris = datasets.load_iris()\n",
    "# we only take the first two features. We could avoid this ugly\n",
    "# slicing by using a two-dim dataset\n",
    "X = iris.data[:, :2]\n",
    "print(X)\n",
    "y = iris.target\n",
    "print(y)\n",
    "h = .02  # step size in the mesh\n",
    "\n",
    "# Create color maps\n",
    "cmap_light = ListedColormap(['orange', 'cyan', 'cornflowerblue'])\n",
    "cmap_bold = ListedColormap(['darkorange', 'c', 'darkblue'])\n",
    "\n",
    "for shrinkage in [.1, 1]:\n",
    "    # we create an instance of Neighbours Classifier and fit the data.\n",
    "    clf = NearestCentroid(shrink_threshold=shrinkage)\n",
    "    clf.fit(X, y)\n",
    "    y_pred = clf.predict(X)\n",
    "    print(shrinkage, np.mean(y == y_pred))\n",
    "    # Plot the decision boundary. For that, we will assign a color to each\n",
    "    # point in the mesh [x_min, x_max]x[y_min, y_max].\n",
    "    x_min, x_max = X[:, 0].min() - 1, X[:, 0].max() + 1\n",
    "    y_min, y_max = X[:, 1].min() - 1, X[:, 1].max() + 1\n",
    "    xx, yy = np.meshgrid(np.arange(x_min, x_max, h),\n",
    "                         np.arange(y_min, y_max, h))\n",
    "    print(xx,yy)\n",
    "    Z = clf.predict(np.c_[xx.ravel(), yy.ravel()])\n",
    "\n",
    "    # Put the result into a color plot\n",
    "    Z = Z.reshape(xx.shape)\n",
    "    plt.figure()\n",
    "    plt.pcolormesh(xx, yy, Z, cmap=cmap_light)\n",
    "\n",
    "    # Plot also the training points\n",
    "    plt.scatter(X[:, 0], X[:, 1], c=y, cmap=cmap_bold,\n",
    "                edgecolor='k', s=20)\n",
    "    plt.title(\"3-Class classification (shrink_threshold=%r)\"\n",
    "              % shrinkage)\n",
    "#     plt.axis('tight')\n",
    "\n",
    "plt.show()"
   ]
  },
  {
   "cell_type": "code",
   "execution_count": 76,
   "metadata": {},
   "outputs": [
    {
     "data": {
      "text/plain": [
       "array([[1, 2]])"
      ]
     },
     "execution_count": 76,
     "metadata": {},
     "output_type": "execute_result"
    },
    {
     "data": {
      "image/png": "[encoded data removed]",
      "text/plain": [
       "<Figure size 432x288 with 1 Axes>"
      ]
     },
     "metadata": {
      "needs_background": "light"
     },
     "output_type": "display_data"
    }
   ],
   "source": [
    "from sklearn import tree\n",
    "X = [[1, 0], [2, 1],[3,2]]\n",
    "Y = [[1,2],[3,4],[5,6]]\n",
    "clf = tree.DecisionTreeClassifier()\n",
    "\n",
    "clf = clf.fit(X, Y)\n",
    "tree.plot_tree(clf)\n",
    "clf.predict([[1,3]])\n"
   ]
  },
  {
   "cell_type": "code",
   "execution_count": 75,
   "metadata": {},
   "outputs": [
    {
     "name": "stdout",
     "output_type": "stream",
     "text": [
      "[2, 1]\n"
     ]
    },
    {
     "data": {
      "text/plain": [
       "array([[3, 4],\n",
       "       [3, 4]])"
      ]
     },
     "execution_count": 75,
     "metadata": {},
     "output_type": "execute_result"
    },
    {
     "data": {
      "image/png": "[encoded data removed]",
      "text/plain": [
       "<Figure size 432x288 with 1 Axes>"
      ]
     },
     "metadata": {
      "needs_background": "light"
     },
     "output_type": "display_data"
    }
   ],
   "source": [
    "from sklearn import tree\n",
    "X = [[1, 0], [2, 1],[3,2]]\n",
    "Y = [[1,2],[3,4],[5,6]]\n",
    "clf = tree.DecisionTreeClassifier(criterion='entropy')\n",
    "print(X[1])\n",
    "clf = clf.fit(X, Y)\n",
    "tree.plot_tree(clf)\n",
    "clf.predict([[1,3],[2,8]])"
   ]
  }
 ],
 "metadata": {
  "kernelspec": {
   "display_name": "Python 3",
   "language": "python",
   "name": "python3"
  },
  "language_info": {
   "codemirror_mode": {
    "name": "ipython",
    "version": 3
   },
   "file_extension": ".py",
   "mimetype": "text/x-python",
   "name": "python",
   "nbconvert_exporter": "python",
   "pygments_lexer": "ipython3",
   "version": "3.7.6"
  }
 },
 "nbformat": 4,
 "nbformat_minor": 2
}
