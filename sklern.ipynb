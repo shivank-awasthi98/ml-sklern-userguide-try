{
 "cells": [
  {
   "cell_type": "code",
   "execution_count": 1,
   "metadata": {},
   "outputs": [],
   "source": [
    "import pandas as pb\n",
    "import numpy as np\n",
    "import json\n",
    "from sklearn.model_selection import train_test_split\n",
    "from sklearn.feature_extraction.text import TfidfTransformer,CountVectorizer\n",
    "from sklearn import svm\n",
    "from sklearn.metrics import f1_score\n",
    "\n"
   ]
  },
  {
   "cell_type": "code",
   "execution_count": 2,
   "metadata": {},
   "outputs": [],
   "source": [
    "class Sentiment:\n",
    "    POSITIVE=\"POSITIVE\"\n",
    "    NEGETIVE=\"NEGETIVE\"\n",
    "class Review:\n",
    "    def __init__(self,text,score):\n",
    "        self.text=text;\n",
    "        self.sentiment=self.set_sentiment(score)\n",
    "    def set_sentiment(self,score):\n",
    "        if score < 3:\n",
    "            return Sentiment.NEGETIVE\n",
    "        else:\n",
    "            return Sentiment.POSITIVE\n",
    "\n",
    "            "
   ]
  },
  {
   "cell_type": "code",
   "execution_count": 3,
   "metadata": {},
   "outputs": [],
   "source": [
    "filename=\"Books_small_10000.json\"\n",
    "reviews=[]\n",
    "with open(filename) as f:\n",
    "    for line in f:\n",
    "        review=json.loads(line)\n",
    "        reviews.append(Review(review[\"reviewText\"],review[\"overall\"]))\n",
    "negetive=list(filter(lambda x:x.sentiment==Sentiment.NEGETIVE,reviews))\n",
    "positive=list(filter(lambda x:x.sentiment==Sentiment.POSITIVE,reviews))\n",
    "positive=positive[:len(negetive)]\n",
    "reviews=negetive+positive"
   ]
  },
  {
   "cell_type": "code",
   "execution_count": 4,
   "metadata": {},
   "outputs": [],
   "source": [
    "train,test=train_test_split(reviews,test_size=0.33)\n",
    "train_x=[x.text for x in train]\n",
    "train_y=[x.sentiment for x in train]\n",
    "test_x=[x.text for x in test]\n",
    "test_y=[x.sentiment for x in test]\n",
    "\n"
   ]
  },
  {
   "cell_type": "code",
   "execution_count": 5,
   "metadata": {
    "scrolled": true
   },
   "outputs": [],
   "source": [
    "count_vect = CountVectorizer()\n",
    "train_vectors_x=count_vect.fit_transform(train_x)\n",
    "test_vectors_x=count_vect.transform(test_x)\n",
    "\n",
    "\n",
    "\n",
    "\n"
   ]
  },
  {
   "cell_type": "code",
   "execution_count": 6,
   "metadata": {
    "scrolled": false
   },
   "outputs": [
    {
     "name": "stdout",
     "output_type": "stream",
     "text": [
      "['POSITIVE', 'NEGETIVE', 'NEGETIVE', 'NEGETIVE', 'POSITIVE', 'NEGETIVE', 'POSITIVE', 'POSITIVE', 'POSITIVE', 'NEGETIVE', 'NEGETIVE', 'NEGETIVE', 'NEGETIVE', 'NEGETIVE', 'POSITIVE', 'POSITIVE', 'POSITIVE', 'POSITIVE', 'POSITIVE', 'POSITIVE', 'NEGETIVE', 'POSITIVE', 'POSITIVE', 'POSITIVE', 'POSITIVE', 'NEGETIVE', 'NEGETIVE', 'NEGETIVE', 'NEGETIVE', 'POSITIVE', 'POSITIVE', 'POSITIVE', 'POSITIVE', 'POSITIVE', 'NEGETIVE', 'NEGETIVE', 'NEGETIVE', 'NEGETIVE', 'POSITIVE', 'NEGETIVE', 'POSITIVE', 'NEGETIVE', 'POSITIVE', 'NEGETIVE', 'POSITIVE', 'POSITIVE', 'NEGETIVE', 'NEGETIVE', 'NEGETIVE', 'POSITIVE', 'NEGETIVE', 'NEGETIVE', 'NEGETIVE', 'POSITIVE', 'NEGETIVE', 'NEGETIVE', 'POSITIVE', 'NEGETIVE', 'NEGETIVE', 'POSITIVE', 'NEGETIVE', 'POSITIVE', 'POSITIVE', 'POSITIVE', 'POSITIVE', 'POSITIVE', 'NEGETIVE', 'POSITIVE', 'NEGETIVE', 'NEGETIVE', 'POSITIVE', 'NEGETIVE', 'NEGETIVE', 'NEGETIVE', 'POSITIVE', 'NEGETIVE', 'POSITIVE', 'POSITIVE', 'POSITIVE', 'NEGETIVE', 'POSITIVE', 'NEGETIVE', 'NEGETIVE', 'NEGETIVE', 'NEGETIVE', 'POSITIVE', 'POSITIVE', 'NEGETIVE', 'POSITIVE', 'NEGETIVE', 'NEGETIVE', 'POSITIVE', 'POSITIVE', 'POSITIVE', 'NEGETIVE', 'NEGETIVE', 'NEGETIVE', 'POSITIVE', 'NEGETIVE', 'NEGETIVE', 'POSITIVE', 'NEGETIVE', 'NEGETIVE', 'POSITIVE', 'POSITIVE', 'NEGETIVE', 'POSITIVE', 'NEGETIVE', 'POSITIVE', 'POSITIVE', 'NEGETIVE', 'NEGETIVE', 'NEGETIVE', 'NEGETIVE', 'POSITIVE', 'POSITIVE', 'POSITIVE', 'POSITIVE', 'NEGETIVE', 'POSITIVE', 'POSITIVE', 'POSITIVE', 'NEGETIVE', 'POSITIVE', 'POSITIVE', 'POSITIVE', 'POSITIVE', 'NEGETIVE', 'POSITIVE', 'POSITIVE', 'POSITIVE', 'NEGETIVE', 'POSITIVE', 'POSITIVE', 'NEGETIVE', 'POSITIVE', 'NEGETIVE', 'NEGETIVE', 'POSITIVE', 'POSITIVE', 'NEGETIVE', 'NEGETIVE', 'NEGETIVE', 'POSITIVE', 'NEGETIVE', 'NEGETIVE', 'NEGETIVE', 'NEGETIVE', 'NEGETIVE', 'POSITIVE', 'NEGETIVE', 'NEGETIVE', 'NEGETIVE', 'NEGETIVE', 'NEGETIVE', 'NEGETIVE', 'NEGETIVE', 'POSITIVE', 'POSITIVE', 'NEGETIVE', 'NEGETIVE', 'NEGETIVE', 'POSITIVE', 'NEGETIVE', 'NEGETIVE', 'NEGETIVE', 'NEGETIVE', 'NEGETIVE', 'POSITIVE', 'POSITIVE', 'POSITIVE', 'NEGETIVE', 'NEGETIVE', 'NEGETIVE', 'POSITIVE', 'NEGETIVE', 'NEGETIVE', 'POSITIVE', 'NEGETIVE', 'POSITIVE', 'POSITIVE', 'POSITIVE', 'NEGETIVE', 'NEGETIVE', 'NEGETIVE', 'POSITIVE', 'POSITIVE', 'NEGETIVE', 'NEGETIVE', 'NEGETIVE', 'POSITIVE', 'NEGETIVE', 'NEGETIVE', 'NEGETIVE', 'NEGETIVE', 'NEGETIVE', 'NEGETIVE', 'NEGETIVE', 'POSITIVE', 'POSITIVE', 'POSITIVE', 'NEGETIVE', 'POSITIVE', 'POSITIVE', 'NEGETIVE', 'NEGETIVE', 'NEGETIVE', 'NEGETIVE', 'NEGETIVE', 'NEGETIVE', 'NEGETIVE', 'NEGETIVE', 'POSITIVE', 'NEGETIVE', 'NEGETIVE', 'NEGETIVE', 'NEGETIVE', 'POSITIVE', 'POSITIVE', 'NEGETIVE', 'POSITIVE', 'POSITIVE', 'POSITIVE', 'POSITIVE', 'NEGETIVE', 'NEGETIVE', 'NEGETIVE', 'NEGETIVE', 'POSITIVE', 'NEGETIVE', 'POSITIVE', 'POSITIVE', 'POSITIVE', 'POSITIVE', 'NEGETIVE', 'NEGETIVE', 'POSITIVE', 'NEGETIVE', 'POSITIVE', 'POSITIVE', 'POSITIVE', 'POSITIVE', 'POSITIVE', 'NEGETIVE', 'NEGETIVE', 'POSITIVE', 'NEGETIVE', 'NEGETIVE', 'POSITIVE', 'NEGETIVE', 'POSITIVE', 'NEGETIVE', 'NEGETIVE', 'NEGETIVE', 'POSITIVE', 'POSITIVE', 'NEGETIVE', 'POSITIVE', 'POSITIVE', 'NEGETIVE', 'POSITIVE', 'NEGETIVE', 'NEGETIVE', 'POSITIVE', 'NEGETIVE', 'NEGETIVE', 'POSITIVE', 'POSITIVE', 'NEGETIVE', 'POSITIVE', 'POSITIVE', 'POSITIVE', 'NEGETIVE', 'POSITIVE', 'NEGETIVE', 'NEGETIVE', 'POSITIVE', 'POSITIVE', 'POSITIVE', 'POSITIVE', 'NEGETIVE', 'POSITIVE', 'NEGETIVE', 'NEGETIVE', 'NEGETIVE', 'POSITIVE', 'POSITIVE', 'POSITIVE', 'POSITIVE', 'POSITIVE', 'NEGETIVE', 'NEGETIVE', 'POSITIVE', 'NEGETIVE', 'NEGETIVE', 'NEGETIVE', 'NEGETIVE', 'NEGETIVE', 'POSITIVE', 'POSITIVE', 'POSITIVE', 'NEGETIVE', 'POSITIVE', 'NEGETIVE', 'POSITIVE', 'POSITIVE', 'POSITIVE', 'POSITIVE', 'POSITIVE', 'POSITIVE', 'POSITIVE', 'POSITIVE', 'NEGETIVE', 'POSITIVE', 'POSITIVE', 'POSITIVE', 'POSITIVE', 'POSITIVE', 'POSITIVE', 'NEGETIVE', 'NEGETIVE', 'POSITIVE', 'POSITIVE', 'POSITIVE', 'NEGETIVE', 'NEGETIVE', 'NEGETIVE', 'NEGETIVE', 'NEGETIVE', 'NEGETIVE', 'NEGETIVE', 'POSITIVE', 'POSITIVE', 'NEGETIVE', 'POSITIVE', 'POSITIVE', 'NEGETIVE', 'POSITIVE', 'NEGETIVE', 'NEGETIVE', 'POSITIVE', 'NEGETIVE', 'NEGETIVE', 'POSITIVE', 'POSITIVE', 'POSITIVE', 'NEGETIVE', 'NEGETIVE', 'POSITIVE', 'NEGETIVE', 'NEGETIVE', 'POSITIVE', 'NEGETIVE', 'POSITIVE', 'POSITIVE', 'POSITIVE', 'POSITIVE', 'POSITIVE', 'POSITIVE', 'NEGETIVE', 'POSITIVE', 'POSITIVE', 'POSITIVE', 'NEGETIVE', 'POSITIVE', 'NEGETIVE', 'POSITIVE', 'NEGETIVE', 'NEGETIVE', 'POSITIVE', 'POSITIVE', 'NEGETIVE', 'POSITIVE', 'POSITIVE', 'NEGETIVE', 'NEGETIVE', 'POSITIVE', 'POSITIVE', 'NEGETIVE', 'POSITIVE', 'POSITIVE', 'POSITIVE', 'POSITIVE', 'POSITIVE', 'POSITIVE', 'POSITIVE', 'POSITIVE', 'POSITIVE', 'NEGETIVE', 'POSITIVE', 'POSITIVE', 'NEGETIVE', 'POSITIVE', 'POSITIVE', 'NEGETIVE', 'POSITIVE', 'NEGETIVE', 'NEGETIVE', 'POSITIVE', 'NEGETIVE', 'POSITIVE', 'POSITIVE', 'POSITIVE', 'POSITIVE', 'POSITIVE', 'POSITIVE', 'NEGETIVE', 'NEGETIVE', 'POSITIVE', 'NEGETIVE', 'NEGETIVE', 'POSITIVE', 'POSITIVE', 'POSITIVE', 'POSITIVE', 'POSITIVE', 'NEGETIVE', 'POSITIVE', 'POSITIVE', 'NEGETIVE', 'NEGETIVE', 'POSITIVE', 'NEGETIVE', 'POSITIVE', 'POSITIVE', 'NEGETIVE']\n"
     ]
    },
    {
     "data": {
      "text/plain": [
       "array(['POSITIVE', 'NEGETIVE', 'NEGETIVE', 'POSITIVE', 'POSITIVE',\n",
       "       'NEGETIVE', 'POSITIVE', 'POSITIVE', 'POSITIVE', 'NEGETIVE',\n",
       "       'NEGETIVE', 'NEGETIVE', 'NEGETIVE', 'NEGETIVE', 'POSITIVE',\n",
       "       'POSITIVE', 'POSITIVE', 'NEGETIVE', 'NEGETIVE', 'NEGETIVE',\n",
       "       'NEGETIVE', 'POSITIVE', 'POSITIVE', 'POSITIVE', 'POSITIVE',\n",
       "       'NEGETIVE', 'NEGETIVE', 'POSITIVE', 'NEGETIVE', 'POSITIVE',\n",
       "       'NEGETIVE', 'NEGETIVE', 'POSITIVE', 'NEGETIVE', 'NEGETIVE',\n",
       "       'NEGETIVE', 'NEGETIVE', 'NEGETIVE', 'POSITIVE', 'NEGETIVE',\n",
       "       'POSITIVE', 'NEGETIVE', 'POSITIVE', 'NEGETIVE', 'POSITIVE',\n",
       "       'POSITIVE', 'NEGETIVE', 'NEGETIVE', 'NEGETIVE', 'NEGETIVE',\n",
       "       'NEGETIVE', 'NEGETIVE', 'NEGETIVE', 'POSITIVE', 'NEGETIVE',\n",
       "       'NEGETIVE', 'NEGETIVE', 'NEGETIVE', 'NEGETIVE', 'POSITIVE',\n",
       "       'NEGETIVE', 'POSITIVE', 'POSITIVE', 'POSITIVE', 'POSITIVE',\n",
       "       'NEGETIVE', 'NEGETIVE', 'POSITIVE', 'NEGETIVE', 'NEGETIVE',\n",
       "       'NEGETIVE', 'NEGETIVE', 'NEGETIVE', 'NEGETIVE', 'POSITIVE',\n",
       "       'NEGETIVE', 'POSITIVE', 'NEGETIVE', 'POSITIVE', 'POSITIVE',\n",
       "       'POSITIVE', 'NEGETIVE', 'NEGETIVE', 'NEGETIVE', 'POSITIVE',\n",
       "       'POSITIVE', 'POSITIVE', 'NEGETIVE', 'NEGETIVE', 'NEGETIVE',\n",
       "       'NEGETIVE', 'NEGETIVE', 'POSITIVE', 'POSITIVE', 'NEGETIVE',\n",
       "       'NEGETIVE', 'NEGETIVE', 'POSITIVE', 'POSITIVE', 'NEGETIVE',\n",
       "       'POSITIVE', 'NEGETIVE', 'POSITIVE', 'POSITIVE', 'NEGETIVE',\n",
       "       'NEGETIVE', 'POSITIVE', 'NEGETIVE', 'NEGETIVE', 'POSITIVE',\n",
       "       'NEGETIVE', 'POSITIVE', 'NEGETIVE', 'NEGETIVE', 'POSITIVE',\n",
       "       'NEGETIVE', 'POSITIVE', 'POSITIVE', 'NEGETIVE', 'POSITIVE',\n",
       "       'POSITIVE', 'POSITIVE', 'NEGETIVE', 'NEGETIVE', 'POSITIVE',\n",
       "       'POSITIVE', 'POSITIVE', 'POSITIVE', 'POSITIVE', 'POSITIVE',\n",
       "       'POSITIVE', 'NEGETIVE', 'NEGETIVE', 'POSITIVE', 'NEGETIVE',\n",
       "       'POSITIVE', 'NEGETIVE', 'NEGETIVE', 'NEGETIVE', 'POSITIVE',\n",
       "       'NEGETIVE', 'NEGETIVE', 'NEGETIVE', 'POSITIVE', 'NEGETIVE',\n",
       "       'NEGETIVE', 'NEGETIVE', 'NEGETIVE', 'POSITIVE', 'POSITIVE',\n",
       "       'NEGETIVE', 'NEGETIVE', 'NEGETIVE', 'NEGETIVE', 'NEGETIVE',\n",
       "       'NEGETIVE', 'NEGETIVE', 'POSITIVE', 'NEGETIVE', 'POSITIVE',\n",
       "       'NEGETIVE', 'NEGETIVE', 'POSITIVE', 'POSITIVE', 'NEGETIVE',\n",
       "       'NEGETIVE', 'NEGETIVE', 'POSITIVE', 'POSITIVE', 'NEGETIVE',\n",
       "       'POSITIVE', 'NEGETIVE', 'NEGETIVE', 'NEGETIVE', 'POSITIVE',\n",
       "       'POSITIVE', 'NEGETIVE', 'NEGETIVE', 'NEGETIVE', 'POSITIVE',\n",
       "       'NEGETIVE', 'POSITIVE', 'NEGETIVE', 'POSITIVE', 'NEGETIVE',\n",
       "       'POSITIVE', 'POSITIVE', 'NEGETIVE', 'NEGETIVE', 'NEGETIVE',\n",
       "       'POSITIVE', 'NEGETIVE', 'NEGETIVE', 'NEGETIVE', 'NEGETIVE',\n",
       "       'NEGETIVE', 'POSITIVE', 'NEGETIVE', 'POSITIVE', 'POSITIVE',\n",
       "       'POSITIVE', 'NEGETIVE', 'NEGETIVE', 'POSITIVE', 'NEGETIVE',\n",
       "       'NEGETIVE', 'NEGETIVE', 'NEGETIVE', 'NEGETIVE', 'POSITIVE',\n",
       "       'NEGETIVE', 'POSITIVE', 'NEGETIVE', 'NEGETIVE', 'NEGETIVE',\n",
       "       'NEGETIVE', 'NEGETIVE', 'POSITIVE', 'POSITIVE', 'NEGETIVE',\n",
       "       'POSITIVE', 'POSITIVE', 'POSITIVE', 'POSITIVE', 'POSITIVE',\n",
       "       'POSITIVE', 'POSITIVE', 'NEGETIVE', 'POSITIVE', 'NEGETIVE',\n",
       "       'NEGETIVE', 'POSITIVE', 'NEGETIVE', 'NEGETIVE', 'NEGETIVE',\n",
       "       'NEGETIVE', 'POSITIVE', 'POSITIVE', 'POSITIVE', 'NEGETIVE',\n",
       "       'NEGETIVE', 'POSITIVE', 'POSITIVE', 'NEGETIVE', 'NEGETIVE',\n",
       "       'NEGETIVE', 'NEGETIVE', 'POSITIVE', 'POSITIVE', 'NEGETIVE',\n",
       "       'POSITIVE', 'NEGETIVE', 'POSITIVE', 'NEGETIVE', 'NEGETIVE',\n",
       "       'POSITIVE', 'NEGETIVE', 'POSITIVE', 'POSITIVE', 'NEGETIVE',\n",
       "       'POSITIVE', 'POSITIVE', 'NEGETIVE', 'POSITIVE', 'NEGETIVE',\n",
       "       'NEGETIVE', 'POSITIVE', 'POSITIVE', 'NEGETIVE', 'POSITIVE',\n",
       "       'POSITIVE', 'POSITIVE', 'NEGETIVE', 'POSITIVE', 'NEGETIVE',\n",
       "       'NEGETIVE', 'POSITIVE', 'POSITIVE', 'NEGETIVE', 'POSITIVE',\n",
       "       'NEGETIVE', 'POSITIVE', 'NEGETIVE', 'NEGETIVE', 'POSITIVE',\n",
       "       'POSITIVE', 'POSITIVE', 'POSITIVE', 'NEGETIVE', 'POSITIVE',\n",
       "       'POSITIVE', 'POSITIVE', 'POSITIVE', 'NEGETIVE', 'NEGETIVE',\n",
       "       'NEGETIVE', 'POSITIVE', 'NEGETIVE', 'POSITIVE', 'POSITIVE',\n",
       "       'NEGETIVE', 'NEGETIVE', 'POSITIVE', 'POSITIVE', 'NEGETIVE',\n",
       "       'NEGETIVE', 'POSITIVE', 'POSITIVE', 'POSITIVE', 'POSITIVE',\n",
       "       'NEGETIVE', 'NEGETIVE', 'NEGETIVE', 'NEGETIVE', 'POSITIVE',\n",
       "       'POSITIVE', 'POSITIVE', 'POSITIVE', 'POSITIVE', 'NEGETIVE',\n",
       "       'POSITIVE', 'POSITIVE', 'POSITIVE', 'POSITIVE', 'NEGETIVE',\n",
       "       'POSITIVE', 'NEGETIVE', 'NEGETIVE', 'NEGETIVE', 'NEGETIVE',\n",
       "       'NEGETIVE', 'POSITIVE', 'NEGETIVE', 'NEGETIVE', 'POSITIVE',\n",
       "       'NEGETIVE', 'NEGETIVE', 'POSITIVE', 'NEGETIVE', 'NEGETIVE',\n",
       "       'POSITIVE', 'NEGETIVE', 'POSITIVE', 'POSITIVE', 'NEGETIVE',\n",
       "       'POSITIVE', 'NEGETIVE', 'NEGETIVE', 'POSITIVE', 'NEGETIVE',\n",
       "       'POSITIVE', 'POSITIVE', 'POSITIVE', 'POSITIVE', 'NEGETIVE',\n",
       "       'POSITIVE', 'NEGETIVE', 'POSITIVE', 'NEGETIVE', 'POSITIVE',\n",
       "       'POSITIVE', 'NEGETIVE', 'POSITIVE', 'NEGETIVE', 'POSITIVE',\n",
       "       'NEGETIVE', 'NEGETIVE', 'NEGETIVE', 'NEGETIVE', 'POSITIVE',\n",
       "       'NEGETIVE', 'NEGETIVE', 'POSITIVE', 'POSITIVE', 'NEGETIVE',\n",
       "       'NEGETIVE', 'POSITIVE', 'NEGETIVE', 'NEGETIVE', 'POSITIVE',\n",
       "       'NEGETIVE', 'NEGETIVE', 'NEGETIVE', 'NEGETIVE', 'POSITIVE',\n",
       "       'POSITIVE', 'POSITIVE', 'NEGETIVE', 'POSITIVE', 'POSITIVE',\n",
       "       'POSITIVE', 'NEGETIVE', 'NEGETIVE', 'POSITIVE', 'NEGETIVE',\n",
       "       'POSITIVE', 'NEGETIVE', 'NEGETIVE', 'POSITIVE', 'NEGETIVE',\n",
       "       'POSITIVE', 'POSITIVE', 'POSITIVE', 'POSITIVE', 'POSITIVE',\n",
       "       'POSITIVE', 'NEGETIVE', 'NEGETIVE', 'NEGETIVE', 'NEGETIVE',\n",
       "       'NEGETIVE', 'POSITIVE', 'POSITIVE', 'POSITIVE', 'POSITIVE',\n",
       "       'POSITIVE', 'NEGETIVE', 'NEGETIVE', 'POSITIVE', 'NEGETIVE',\n",
       "       'NEGETIVE', 'POSITIVE', 'NEGETIVE', 'POSITIVE', 'POSITIVE',\n",
       "       'NEGETIVE'], dtype='<U8')"
      ]
     },
     "execution_count": 6,
     "metadata": {},
     "output_type": "execute_result"
    }
   ],
   "source": [
    "cfy_svc=svm.SVC()\n",
    "cfy_svc.fit(train_vectors_x , train_y)\n",
    "print(test_y)\n",
    "cfy_svc.predict(test_vectors_x)"
   ]
  },
  {
   "cell_type": "code",
   "execution_count": 7,
   "metadata": {},
   "outputs": [
    {
     "data": {
      "text/plain": [
       "0.7793427230046949"
      ]
     },
     "execution_count": 7,
     "metadata": {},
     "output_type": "execute_result"
    }
   ],
   "source": [
    "cfy_svc.score(test_vectors_x,test_y)"
   ]
  },
  {
   "cell_type": "code",
   "execution_count": 8,
   "metadata": {},
   "outputs": [
    {
     "data": {
      "text/plain": [
       "array([0.78440367, 0.77403846])"
      ]
     },
     "execution_count": 8,
     "metadata": {},
     "output_type": "execute_result"
    }
   ],
   "source": [
    "f1_score(test_y,cfy_svc.predict(test_vectors_x),average=None,labels=['NEGETIVE','POSITIVE'])"
   ]
  },
  {
   "cell_type": "code",
   "execution_count": null,
   "metadata": {},
   "outputs": [],
   "source": [
    "\n"
   ]
  }
 ],
 "metadata": {
  "kernelspec": {
   "display_name": "Python 3",
   "language": "python",
   "name": "python3"
  },
  "language_info": {
   "codemirror_mode": {
    "name": "ipython",
    "version": 3
   },
   "file_extension": ".py",
   "mimetype": "text/x-python",
   "name": "python",
   "nbconvert_exporter": "python",
   "pygments_lexer": "ipython3",
   "version": "3.7.6"
  }
 },
 "nbformat": 4,
 "nbformat_minor": 2
}
