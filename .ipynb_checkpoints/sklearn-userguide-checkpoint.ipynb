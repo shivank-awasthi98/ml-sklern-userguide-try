{
 "cells": [
  {
   "cell_type": "markdown",
   "metadata": {},
   "source": [
    "# #Linear model\n"
   ]
  },
  {
   "cell_type": "code",
   "execution_count": null,
   "metadata": {},
   "outputs": [],
   "source": []
  },
  {
   "cell_type": "code",
   "execution_count": 2,
   "metadata": {},
   "outputs": [],
   "source": [
    "from sklearn import datasets,linear_model\n",
    "from sklearn.metrics import mean_squared_error, r2_score\n",
    "import matplotlib.pyplot as plt\n",
    "import numpy as np"
   ]
  },
  {
   "cell_type": "code",
   "execution_count": 155,
   "metadata": {},
   "outputs": [
    {
     "name": "stdout",
     "output_type": "stream",
     "text": [
      "train_x [[0.02187235]]\n",
      "train_y [151.]\n",
      "test_x= [[ 0.05285819]\n",
      " [ 0.0287581 ]\n",
      " [-0.01944209]\n",
      " [-0.08141377]\n",
      " [ 0.0436772 ]]\n",
      "test_y [233.  91. 111. 152. 120.]\n",
      "coef: [709.19471785]\n",
      "predicted_y [190.62399804 173.53233807 139.34901813  95.39903534 184.1128894 ]\n",
      "mean square error 63.70565351002006\n",
      "modified predicted y =  [254.32965155 237.23799158 203.05467164 159.10468885 247.81854291]\n",
      "r2 score: 0.15995117339547205\n"
     ]
    },
    {
     "data": {
      "image/png": "[encoded data removed]",
      "text/plain": [
       "<Figure size 432x288 with 1 Axes>"
      ]
     },
     "metadata": {
      "needs_background": "light"
     },
     "output_type": "display_data"
    }
   ],
   "source": [
    "d_x,d_y=datasets.load_diabetes(return_X_y=True)\n",
    "# print(d_x[:5])\n",
    "d_x=d_x[:,np.newaxis,3]\n",
    "\n",
    "d_x.shape\n",
    "train_x=d_x[:-20]\n",
    "test_x=d_x[-20:]\n",
    "train_y=d_y[:-20]\n",
    "test_y=d_y[-20:]\n",
    "print(\"train_x\",train_x[:1])\n",
    "print(\"train_y\",train_y[:1])\n",
    "print(\"test_x=\",test_x[:5])\n",
    "print(\"test_y\",test_y[:5])\n",
    "reg=linear_model.LinearRegression()\n",
    "reg.fit(train_x,train_y)\n",
    "print(\"coef:\",reg.coef_)\n",
    "pred_y=reg.predict(test_x)\n",
    "print(\"predicted_y\",pred_y[:5])\n",
    "print(\"mean square error\",mean_squared_error(test_y,prid_y,squared=False))\n",
    "mod_pridected_y=pred_y+mean_squared_error(test_y,pred_y,squared=False)\n",
    "print(\"modified predicted y = \",mod_pridected_y[:5])\n",
    "print(\"r2 score:\",r2_score(test_y,prid_y))\n",
    "plt.scatter(test_x,test_y,color=\"black\")\n",
    "plt.plot(test_x,pred_y,linewidth=1,marker='o')\n",
    "\n",
    "plt.show()\n"
   ]
  },
  {
   "cell_type": "markdown",
   "metadata": {},
   "source": [
    "\n",
    "# RidgeRegression"
   ]
  },
  {
   "cell_type": "code",
   "execution_count": 156,
   "metadata": {},
   "outputs": [
    {
     "name": "stdout",
     "output_type": "stream",
     "text": [
      "regCoef [346.62408198]\n",
      "test x = [[ 0.05285819]\n",
      " [ 0.0287581 ]\n",
      " [-0.01944209]\n",
      " [-0.08141377]\n",
      " [ 0.0436772 ]]\n",
      "test y = [233.  91. 111. 152. 120.]\n",
      "predicted y =  [171.57435875 163.2206855  146.51333899 125.03246491 168.392007  ]\n",
      "rms error 67.48345633527812\n",
      "modified predicted y =  [239.05781509 230.70414184 213.99679532 192.51592124 235.87546333]\n",
      "r2 0.05736575088480045\n"
     ]
    },
    {
     "data": {
      "image/png": "[encoded data removed]",
      "text/plain": [
       "<Figure size 432x288 with 1 Axes>"
      ]
     },
     "metadata": {
      "needs_background": "light"
     },
     "output_type": "display_data"
    }
   ],
   "source": [
    "reg=linear_model.Ridge()\n",
    "reg.fit(train_x,train_y)\n",
    "print(\"regCoef\",reg.coef_)\n",
    "print(\"test x =\",test_x[:5])\n",
    "print(\"test y =\",test_y[:5])\n",
    "pred_y=reg.predict(test_x)\n",
    "print(\"predicted y = \",pred_y[:5])\n",
    "print(\"rms error\",mean_squared_error(test_y,pred_y,squared=False))\n",
    "mod_pridected_y=pred_y+mean_squared_error(test_y,pred_y,squared=False)\n",
    "print(\"modified predicted y = \",mod_pridected_y[:5])\n",
    "print(\"r2\",r2_score(test_y,pred_y))\n",
    "plt.scatter(test_x,test_y,color=\"black\")\n",
    "plt.plot(test_x,pred_y,linewidth=1,marker='o')\n",
    "\n",
    "plt.show()"
   ]
  },
  {
   "cell_type": "markdown",
   "metadata": {},
   "source": [
    "# Lasso "
   ]
  },
  {
   "cell_type": "code",
   "execution_count": 214,
   "metadata": {},
   "outputs": [
    {
     "name": "stdout",
     "output_type": "stream",
     "text": [
      "regCoef [267.78047027]\n",
      "test x = [[ 0.05285819]\n",
      " [ 0.0287581 ]\n",
      " [-0.01944209]\n",
      " [-0.08141377]\n",
      " [ 0.0436772 ]]\n",
      "test y = [233.  91. 111. 152. 120.]\n",
      "predicted y =  [167.43187667 160.97834194 148.07127247 131.47646887 164.97338722]\n",
      "rms error 68.83605323107804\n",
      "modified predicted y =  [236.2679299  229.81439517 216.9073257  200.3125221  233.80944045]\n",
      "r2 0.019199897243765807\n"
     ]
    },
    {
     "data": {
      "image/png": "[encoded data removed]",
      "text/plain": [
       "<Figure size 432x288 with 1 Axes>"
      ]
     },
     "metadata": {
      "needs_background": "light"
     },
     "output_type": "display_data"
    }
   ],
   "source": [
    "reg=linear_model.Lasso()\n",
    "reg.fit(train_x,train_y)\n",
    "print(\"regCoef\",reg.coef_)\n",
    "print(\"test x =\",test_x[:5])\n",
    "print(\"test y =\",test_y[:5])\n",
    "pred_y=reg.predict(test_x)\n",
    "print(\"predicted y = \",pred_y[:5])\n",
    "print(\"rms error\",mean_squared_error(test_y,pred_y,squared=False))\n",
    "mod_pridected_y=pred_y+mean_squared_error(test_y,pred_y,squared=False)\n",
    "print(\"modified predicted y = \",mod_pridected_y[:5])\n",
    "print(\"r2\",r2_score(test_y,pred_y))\n",
    "plt.scatter(test_x,test_y,color=\"black\")\n",
    "plt.plot(test_x,pred_y,linewidth=1,marker='o')\n",
    "\n",
    "plt.show()"
   ]
  },
  {
   "cell_type": "markdown",
   "metadata": {},
   "source": [
    "# Multi-Class-Lasso "
   ]
  },
  {
   "cell_type": "code",
   "execution_count": 34,
   "metadata": {},
   "outputs": [],
   "source": [
    "from sklearn.linear_model import MultiTaskLasso, Lasso\n",
    "rng = np.random.RandomState(42)\n",
    "n_samples, n_features, n_tasks = 100, 30, 40\n",
    "n_relevant_features = 5\n",
    "coef = np.zeros((n_tasks, n_features))\n",
    "coef.shape\n",
    "times = np.linspace(0, 2 * np.pi, n_tasks)\n",
    "times\n",
    "for k in range(n_relevant_features):\n",
    "    coef[:, k] = np.sin((1. + rng.randn(1)) * times + 3 * rng.randn(1))\n",
    "\n",
    "    "
   ]
  },
  {
   "cell_type": "code",
   "execution_count": null,
   "metadata": {},
   "outputs": [],
   "source": []
  },
  {
   "cell_type": "markdown",
   "metadata": {},
   "source": [
    "## ElasticNet"
   ]
  },
  {
   "cell_type": "code",
   "execution_count": 232,
   "metadata": {},
   "outputs": [
    {
     "name": "stdout",
     "output_type": "stream",
     "text": [
      "regCoef [2.2033013]\n",
      "test x = [[ 0.05285819]\n",
      " [ 0.0287581 ]\n",
      " [-0.01944209]\n",
      " [-0.08141377]\n",
      " [ 0.0436772 ]]\n",
      "test y = [233.  91. 111. 152. 120.]\n",
      "predicted y =  [153.47832177 153.425222   153.31902246 153.1824802  153.45809329]\n",
      "rms error 74.5710577052458\n",
      "modified predicted y =  [228.04937948 227.99627971 227.89008017 227.7535379  228.029151  ]\n",
      "r2 -0.1510367380254638\n"
     ]
    },
    {
     "data": {
      "image/png": "[encoded data removed]",
      "text/plain": [
       "<Figure size 432x288 with 1 Axes>"
      ]
     },
     "metadata": {
      "needs_background": "light"
     },
     "output_type": "display_data"
    }
   ],
   "source": [
    "reg=linear_model.ElasticNet()\n",
    "reg.fit(train_x,train_y)\n",
    "print(\"regCoef\",reg.coef_)\n",
    "print(\"test x =\",test_x[:5])\n",
    "print(\"test y =\",test_y[:5])\n",
    "pred_y=reg.predict(test_x)\n",
    "print(\"predicted y = \",pred_y[:5])\n",
    "print(\"rms error\",mean_squared_error(test_y,pred_y,squared=False))\n",
    "mod_pridected_y=pred_y+mean_squared_error(test_y,pred_y,squared=False)\n",
    "print(\"modified predicted y = \",mod_pridected_y[:5])\n",
    "print(\"r2\",r2_score(test_y,pred_y))\n",
    "plt.scatter(test_x,test_y,color=\"black\")\n",
    "plt.plot(test_x,pred_y,linewidth=1,marker='o')\n",
    "\n",
    "plt.show()"
   ]
  },
  {
   "cell_type": "markdown",
   "metadata": {},
   "source": [
    "# "
   ]
  }
 ],
 "metadata": {
  "kernelspec": {
   "display_name": "Python 3",
   "language": "python",
   "name": "python3"
  },
  "language_info": {
   "codemirror_mode": {
    "name": "ipython",
    "version": 3
   },
   "file_extension": ".py",
   "mimetype": "text/x-python",
   "name": "python",
   "nbconvert_exporter": "python",
   "pygments_lexer": "ipython3",
   "version": "3.7.6"
  }
 },
 "nbformat": 4,
 "nbformat_minor": 2
}
