{
 "cells": [
  {
   "cell_type": "code",
   "execution_count": 82,
   "metadata": {},
   "outputs": [],
   "source": [
    "import pandas as pb\n",
    "import numpy as np\n",
    "import json\n",
    "from sklearn.model_selection import train_test_split\n",
    "from sklearn.feature_extraction.text import TfidfTransformer,CountVectorizer\n"
   ]
  },
  {
   "cell_type": "code",
   "execution_count": 43,
   "metadata": {},
   "outputs": [],
   "source": [
    "class Sentiment:\n",
    "    POSITIVE=\"POSITIVE\"\n",
    "    NEGETIVE=\"NEGETIVE\"\n",
    "class Review:\n",
    "    def __init__(self,text,score):\n",
    "        self.text=text;\n",
    "        self.sentiment=self.set_sentiment(score)\n",
    "    def set_sentiment(self,score):\n",
    "        if score < 3:\n",
    "            return Sentiment.NEGETIVE\n",
    "        else:\n",
    "            return Sentiment.POSITIVE\n",
    "\n",
    "            "
   ]
  },
  {
   "cell_type": "code",
   "execution_count": 46,
   "metadata": {},
   "outputs": [],
   "source": [
    "filename=\"Books_small_10000.json\"\n",
    "reviews=[]\n",
    "with open(filename) as f:\n",
    "    for line in f:\n",
    "        review=json.loads(line)\n",
    "        reviews.append(Review(review[\"reviewText\"],review[\"overall\"]))\n",
    "        \n"
   ]
  },
  {
   "cell_type": "code",
   "execution_count": 78,
   "metadata": {},
   "outputs": [],
   "source": [
    "train,test=train_test_split(reviews,test_size=0.33)\n",
    "train_x=[x.text for x in train]\n"
   ]
  },
  {
   "cell_type": "code",
   "execution_count": 81,
   "metadata": {},
   "outputs": [
    {
     "ename": "ValueError",
     "evalue": "Expected 2D array, got 1D array instead:\narray=[\"This is possibly my favorite book. Great story telling. Fantastic message. It inspired a lot of introspection. I'll probably read this again in a couple weeks, and several more times in the coming years. I'd recommend it for anyone.\"\n \"I've not been a big fan of most Dummies books, but many of them do serve a purpose.  Ultimately, I don't know enough about the topic to judge this book harshly, but I liked it for the information.  For instance I knew virtually nothing about how analysts and firms operate.  The book explains that you're likely not to see buy side analysts, as they are employed internally to investment firms, where the analysts we all see often, are sell side types, that are building up the hype on a stock, so it can be sold off.  It also goes into many illegal, and quasi-legal manipulations that have caused investors to loose billions of dollars, and why these things happened.The early part of the book is good for stocks as well, as you can do you're own investigation using the different numbers, and symbols of how a stock in performing, and how the company is being run.  Then of course there is the trading and I never knew there was so much to know about.  Spotting trends, using technology, gauging the economy are just a few of the things employed before plunking down our hard earned cash.  There is a list of do's and don't that help educate the new investor to avoid the mistakes that usually sour someone on the market.  If I had this book a few years ago I would not have lost money and ultimately left the market.  It may convince me to try again, but at a more conservative pace.  Recommended, for those without extensive investment experience, an it may actually live up to the reference for the rest of us they put on some (but not this) Dummies books.  I for one never liked that because I always thought they were trying to cover their bases.\"\n \"A couple years ago I read Between Here and Forever by Elizabeth Scott and I really liked it. So when I saw Heart Beat on NetGalley I couldn't resist.I would honestly give it about a 3  stars. I did really enjoy it but Emma got on my nerves a lot. You see the problem with reading young adult sometimes, is the mature side of you wants to slap these teens silly. I think I liked Between Here and Forever a little better, but once again Scott didn't disappoint. I could not put this one down, even though Emma drove me nuts.To an extent I could see where she was coming from. This is an interesting situation. Her mother dies while pregnant. Her body is being kept alive to sustain the fetus until it is old enough to survive outside the womb. Emma does not believe her mother would have wanted this and she harbors a whole lot of hate towards her step father for making that decision without her. Well, obviously her mother would want that. Maybe it's obvious to me because I'm a mother? Not only does she have this unhealthy anger towards her step dad, she refuses to acknowledge that the baby is her future sibling.Pretty much the whole story is her working out her feelings over her moms passing. Which is very hard to do when she's still visiting her moms body. How do you find closure doing that? It's not very easy I'm sure, so that was her only saving grace in my eyes.Heart Beat isn't all doom and gloom though, along the way Emma builds a relationship with a boy she probably never would have talked to had all of this not gone down. They understand each other and the love that blooms between them is sweet.I did really like Heart Beat. Reading this reminded me I have a few more of Scott's books on my shelf that I should really get to sooner than later.\"\n ...\n \"You've gotta' read this one.  Seriously.  This is an absolutely amazing book that every American should read.  It's should be on the required reading list at every institution of learning and copies should be sent out through the mail right along with the Penny Savers and Clearinghouse Sweepstake mailings.I gained many insights from this book, including the following:  How to tell if you are dying, that you are allowed to &#34;Just say NO&#34; to any medical procedure, under what circumstances it's a good idea to just say NO...both for yourself and for your loved ones.Stephen P. Kiernan, I salute you!\"\n 'Not one of his best. I found the plot a bit far fetched and the main character not too astute.'\n 'What is a girl to do when she has a mother who really can care less about her,What will she do to survive or will not having her mother care about her make her die out and believe that no one else will care about her either.'].\nReshape your data either using array.reshape(-1, 1) if your data has a single feature or array.reshape(1, -1) if it contains a single sample.",
     "output_type": "error",
     "traceback": [
      "\u001b[1;31m---------------------------------------------------------------------------\u001b[0m",
      "\u001b[1;31mValueError\u001b[0m                                Traceback (most recent call last)",
      "\u001b[1;32m<ipython-input-81-503fb7edc2a3>\u001b[0m in \u001b[0;36m<module>\u001b[1;34m\u001b[0m\n\u001b[0;32m      1\u001b[0m \u001b[0mtfidf_transformer\u001b[0m \u001b[1;33m=\u001b[0m \u001b[0mTfidfTransformer\u001b[0m\u001b[1;33m(\u001b[0m\u001b[1;33m)\u001b[0m\u001b[1;33m\u001b[0m\u001b[1;33m\u001b[0m\u001b[0m\n\u001b[1;32m----> 2\u001b[1;33m \u001b[0mtrain_vectors_x\u001b[0m\u001b[1;33m=\u001b[0m\u001b[0mtfidf_transformer\u001b[0m\u001b[1;33m.\u001b[0m\u001b[0mfit_transform\u001b[0m\u001b[1;33m(\u001b[0m\u001b[0mtrain_x\u001b[0m\u001b[1;33m)\u001b[0m\u001b[1;33m\u001b[0m\u001b[1;33m\u001b[0m\u001b[0m\n\u001b[0m\u001b[0;32m      3\u001b[0m \u001b[1;33m\u001b[0m\u001b[0m\n",
      "\u001b[1;32m~\\Anaconda3\\lib\\site-packages\\sklearn\\base.py\u001b[0m in \u001b[0;36mfit_transform\u001b[1;34m(self, X, y, **fit_params)\u001b[0m\n\u001b[0;32m    569\u001b[0m         \u001b[1;32mif\u001b[0m \u001b[0my\u001b[0m \u001b[1;32mis\u001b[0m \u001b[1;32mNone\u001b[0m\u001b[1;33m:\u001b[0m\u001b[1;33m\u001b[0m\u001b[1;33m\u001b[0m\u001b[0m\n\u001b[0;32m    570\u001b[0m             \u001b[1;31m# fit method of arity 1 (unsupervised transformation)\u001b[0m\u001b[1;33m\u001b[0m\u001b[1;33m\u001b[0m\u001b[1;33m\u001b[0m\u001b[0m\n\u001b[1;32m--> 571\u001b[1;33m             \u001b[1;32mreturn\u001b[0m \u001b[0mself\u001b[0m\u001b[1;33m.\u001b[0m\u001b[0mfit\u001b[0m\u001b[1;33m(\u001b[0m\u001b[0mX\u001b[0m\u001b[1;33m,\u001b[0m \u001b[1;33m**\u001b[0m\u001b[0mfit_params\u001b[0m\u001b[1;33m)\u001b[0m\u001b[1;33m.\u001b[0m\u001b[0mtransform\u001b[0m\u001b[1;33m(\u001b[0m\u001b[0mX\u001b[0m\u001b[1;33m)\u001b[0m\u001b[1;33m\u001b[0m\u001b[1;33m\u001b[0m\u001b[0m\n\u001b[0m\u001b[0;32m    572\u001b[0m         \u001b[1;32melse\u001b[0m\u001b[1;33m:\u001b[0m\u001b[1;33m\u001b[0m\u001b[1;33m\u001b[0m\u001b[0m\n\u001b[0;32m    573\u001b[0m             \u001b[1;31m# fit method of arity 2 (supervised transformation)\u001b[0m\u001b[1;33m\u001b[0m\u001b[1;33m\u001b[0m\u001b[1;33m\u001b[0m\u001b[0m\n",
      "\u001b[1;32m~\\Anaconda3\\lib\\site-packages\\sklearn\\feature_extraction\\text.py\u001b[0m in \u001b[0;36mfit\u001b[1;34m(self, X, y)\u001b[0m\n\u001b[0;32m   1448\u001b[0m             \u001b[0ma\u001b[0m \u001b[0mmatrix\u001b[0m \u001b[0mof\u001b[0m \u001b[0mterm\u001b[0m\u001b[1;33m/\u001b[0m\u001b[0mtoken\u001b[0m \u001b[0mcounts\u001b[0m\u001b[1;33m\u001b[0m\u001b[1;33m\u001b[0m\u001b[0m\n\u001b[0;32m   1449\u001b[0m         \"\"\"\n\u001b[1;32m-> 1450\u001b[1;33m         \u001b[0mX\u001b[0m \u001b[1;33m=\u001b[0m \u001b[0mcheck_array\u001b[0m\u001b[1;33m(\u001b[0m\u001b[0mX\u001b[0m\u001b[1;33m,\u001b[0m \u001b[0maccept_sparse\u001b[0m\u001b[1;33m=\u001b[0m\u001b[1;33m(\u001b[0m\u001b[1;34m'csr'\u001b[0m\u001b[1;33m,\u001b[0m \u001b[1;34m'csc'\u001b[0m\u001b[1;33m)\u001b[0m\u001b[1;33m)\u001b[0m\u001b[1;33m\u001b[0m\u001b[1;33m\u001b[0m\u001b[0m\n\u001b[0m\u001b[0;32m   1451\u001b[0m         \u001b[1;32mif\u001b[0m \u001b[1;32mnot\u001b[0m \u001b[0msp\u001b[0m\u001b[1;33m.\u001b[0m\u001b[0missparse\u001b[0m\u001b[1;33m(\u001b[0m\u001b[0mX\u001b[0m\u001b[1;33m)\u001b[0m\u001b[1;33m:\u001b[0m\u001b[1;33m\u001b[0m\u001b[1;33m\u001b[0m\u001b[0m\n\u001b[0;32m   1452\u001b[0m             \u001b[0mX\u001b[0m \u001b[1;33m=\u001b[0m \u001b[0msp\u001b[0m\u001b[1;33m.\u001b[0m\u001b[0mcsr_matrix\u001b[0m\u001b[1;33m(\u001b[0m\u001b[0mX\u001b[0m\u001b[1;33m)\u001b[0m\u001b[1;33m\u001b[0m\u001b[1;33m\u001b[0m\u001b[0m\n",
      "\u001b[1;32m~\\Anaconda3\\lib\\site-packages\\sklearn\\utils\\validation.py\u001b[0m in \u001b[0;36mcheck_array\u001b[1;34m(array, accept_sparse, accept_large_sparse, dtype, order, copy, force_all_finite, ensure_2d, allow_nd, ensure_min_samples, ensure_min_features, warn_on_dtype, estimator)\u001b[0m\n\u001b[0;32m    554\u001b[0m                     \u001b[1;34m\"Reshape your data either using array.reshape(-1, 1) if \"\u001b[0m\u001b[1;33m\u001b[0m\u001b[1;33m\u001b[0m\u001b[0m\n\u001b[0;32m    555\u001b[0m                     \u001b[1;34m\"your data has a single feature or array.reshape(1, -1) \"\u001b[0m\u001b[1;33m\u001b[0m\u001b[1;33m\u001b[0m\u001b[0m\n\u001b[1;32m--> 556\u001b[1;33m                     \"if it contains a single sample.\".format(array))\n\u001b[0m\u001b[0;32m    557\u001b[0m \u001b[1;33m\u001b[0m\u001b[0m\n\u001b[0;32m    558\u001b[0m         \u001b[1;31m# in the future np.flexible dtypes will be handled like object dtypes\u001b[0m\u001b[1;33m\u001b[0m\u001b[1;33m\u001b[0m\u001b[1;33m\u001b[0m\u001b[0m\n",
      "\u001b[1;31mValueError\u001b[0m: Expected 2D array, got 1D array instead:\narray=[\"This is possibly my favorite book. Great story telling. Fantastic message. It inspired a lot of introspection. I'll probably read this again in a couple weeks, and several more times in the coming years. I'd recommend it for anyone.\"\n \"I've not been a big fan of most Dummies books, but many of them do serve a purpose.  Ultimately, I don't know enough about the topic to judge this book harshly, but I liked it for the information.  For instance I knew virtually nothing about how analysts and firms operate.  The book explains that you're likely not to see buy side analysts, as they are employed internally to investment firms, where the analysts we all see often, are sell side types, that are building up the hype on a stock, so it can be sold off.  It also goes into many illegal, and quasi-legal manipulations that have caused investors to loose billions of dollars, and why these things happened.The early part of the book is good for stocks as well, as you can do you're own investigation using the different numbers, and symbols of how a stock in performing, and how the company is being run.  Then of course there is the trading and I never knew there was so much to know about.  Spotting trends, using technology, gauging the economy are just a few of the things employed before plunking down our hard earned cash.  There is a list of do's and don't that help educate the new investor to avoid the mistakes that usually sour someone on the market.  If I had this book a few years ago I would not have lost money and ultimately left the market.  It may convince me to try again, but at a more conservative pace.  Recommended, for those without extensive investment experience, an it may actually live up to the reference for the rest of us they put on some (but not this) Dummies books.  I for one never liked that because I always thought they were trying to cover their bases.\"\n \"A couple years ago I read Between Here and Forever by Elizabeth Scott and I really liked it. So when I saw Heart Beat on NetGalley I couldn't resist.I would honestly give it about a 3  stars. I did really enjoy it but Emma got on my nerves a lot. You see the problem with reading young adult sometimes, is the mature side of you wants to slap these teens silly. I think I liked Between Here and Forever a little better, but once again Scott didn't disappoint. I could not put this one down, even though Emma drove me nuts.To an extent I could see where she was coming from. This is an interesting situation. Her mother dies while pregnant. Her body is being kept alive to sustain the fetus until it is old enough to survive outside the womb. Emma does not believe her mother would have wanted this and she harbors a whole lot of hate towards her step father for making that decision without her. Well, obviously her mother would want that. Maybe it's obvious to me because I'm a mother? Not only does she have this unhealthy anger towards her step dad, she refuses to acknowledge that the baby is her future sibling.Pretty much the whole story is her working out her feelings over her moms passing. Which is very hard to do when she's still visiting her moms body. How do you find closure doing that? It's not very easy I'm sure, so that was her only saving grace in my eyes.Heart Beat isn't all doom and gloom though, along the way Emma builds a relationship with a boy she probably never would have talked to had all of this not gone down. They understand each other and the love that blooms between them is sweet.I did really like Heart Beat. Reading this reminded me I have a few more of Scott's books on my shelf that I should really get to sooner than later.\"\n ...\n \"You've gotta' read this one.  Seriously.  This is an absolutely amazing book that every American should read.  It's should be on the required reading list at every institution of learning and copies should be sent out through the mail right along with the Penny Savers and Clearinghouse Sweepstake mailings.I gained many insights from this book, including the following:  How to tell if you are dying, that you are allowed to &#34;Just say NO&#34; to any medical procedure, under what circumstances it's a good idea to just say NO...both for yourself and for your loved ones.Stephen P. Kiernan, I salute you!\"\n 'Not one of his best. I found the plot a bit far fetched and the main character not too astute.'\n 'What is a girl to do when she has a mother who really can care less about her,What will she do to survive or will not having her mother care about her make her die out and believe that no one else will care about her either.'].\nReshape your data either using array.reshape(-1, 1) if your data has a single feature or array.reshape(1, -1) if it contains a single sample."
     ]
    }
   ],
   "source": [
    "count_vect = CountVectorizer()\n",
    "train_vectors_x=count_vect.fit_transform(train_x)\n",
    "\n"
   ]
  }
 ],
 "metadata": {
  "kernelspec": {
   "display_name": "Python 3",
   "language": "python",
   "name": "python3"
  },
  "language_info": {
   "codemirror_mode": {
    "name": "ipython",
    "version": 3
   },
   "file_extension": ".py",
   "mimetype": "text/x-python",
   "name": "python",
   "nbconvert_exporter": "python",
   "pygments_lexer": "ipython3",
   "version": "3.7.6"
  }
 },
 "nbformat": 4,
 "nbformat_minor": 2
}
